{
  "nbformat": 4,
  "nbformat_minor": 0,
  "metadata": {
    "colab": {
      "provenance": [],
      "authorship_tag": "ABX9TyNPa1FU8O5WgCm3J8cwiJoP",
      "include_colab_link": true
    },
    "kernelspec": {
      "name": "python3",
      "display_name": "Python 3"
    },
    "language_info": {
      "name": "python"
    }
  },
  "cells": [
    {
      "cell_type": "markdown",
      "metadata": {
        "id": "view-in-github",
        "colab_type": "text"
      },
      "source": [
        "<a href=\"https://colab.research.google.com/github/ajd351/adamdahan/blob/main/Deposit_with_Interest_Rates.ipynb\" target=\"_parent\"><img src=\"https://colab.research.google.com/assets/colab-badge.svg\" alt=\"Open In Colab\"/></a>"
      ]
    },
    {
      "cell_type": "code",
      "execution_count": null,
      "metadata": {
        "id": "IrpSg0453Kzd"
      },
      "outputs": [],
      "source": [
        "Name = input('Hi, please enter your name: ')\n",
        "Customer_type = input('Enter your customer type (n: new, e: existing)')\n",
        "Deposit = float(input('Enter your deposit amount: $'))\n",
        "\n",
        "if Customer_type == 'n':\n",
        "  Interest=.03\n",
        "else:\n",
        "  if Deposit<=1000:\n",
        "    Interest=float(.03)\n",
        "  elif Deposit<=10000:\n",
        "    Interest=float(.0325)\n",
        "  elif Deposit>10000:\n",
        "    Interest=float(.035)\n",
        "\n",
        "Amount = (1 + Interest) * Deposit\n",
        "print(f'{Name}, you will have ${round(Amount,2)} in your account.')"
      ]
    }
  ]
}