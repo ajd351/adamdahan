{
  "nbformat": 4,
  "nbformat_minor": 0,
  "metadata": {
    "colab": {
      "provenance": [],
      "authorship_tag": "ABX9TyMmf2BhsB4uonmLDwgtL2+i",
      "include_colab_link": true
    },
    "kernelspec": {
      "name": "python3",
      "display_name": "Python 3"
    },
    "language_info": {
      "name": "python"
    }
  },
  "cells": [
    {
      "cell_type": "markdown",
      "metadata": {
        "id": "view-in-github",
        "colab_type": "text"
      },
      "source": [
        "<a href=\"https://colab.research.google.com/github/ajd351/adamdahan/blob/main/Calculator.ipynb\" target=\"_parent\"><img src=\"https://colab.research.google.com/assets/colab-badge.svg\" alt=\"Open In Colab\"/></a>"
      ]
    },
    {
      "cell_type": "code",
      "execution_count": null,
      "metadata": {
        "id": "e3-NGTEp1N0n"
      },
      "outputs": [],
      "source": [
        "while True:\n",
        "  number1= float(input(\"Enter a number\"))\n",
        "  number2= float(input(\"Enter another number\"))\n",
        "  op=input(\"Enter an operation\")\n",
        "  if op=='break':\n",
        "    print(\"goodbye\")\n",
        "    break\n",
        "  elif op== \"+\":\n",
        "    print(f'{number1}+{number2}={number1+number2}')\n",
        "  elif op== \"-\":\n",
        "    print(f'{number1}-{number2}={number1-number2}')\n",
        "  elif op== \"*\":\n",
        "    print(f'{number1}*{number2}={number1*number2}')\n",
        "  elif op== \"/\":\n",
        "    print(f'{number1}/{number2}={number1/number2}')\n",
        "  elif op== \"//\":\n",
        "    print(f'{number1}//{number2}={number1//number2}')\n",
        "  elif op== \"**\":\n",
        "    print(f'{number1}**{number2}={number1**number2}')\n",
        "  elif op==\"%\":\n",
        "    print(f'{number1}%{number2}={number1%number2}')\n",
        "  else:\n",
        "    continue"
      ]
    }
  ]
}