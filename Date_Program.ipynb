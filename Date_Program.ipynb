{
  "nbformat": 4,
  "nbformat_minor": 0,
  "metadata": {
    "colab": {
      "provenance": [],
      "authorship_tag": "ABX9TyN14nP4aXKf3jbRPMSop4Ou",
      "include_colab_link": true
    },
    "kernelspec": {
      "name": "python3",
      "display_name": "Python 3"
    },
    "language_info": {
      "name": "python"
    }
  },
  "cells": [
    {
      "cell_type": "markdown",
      "metadata": {
        "id": "view-in-github",
        "colab_type": "text"
      },
      "source": [
        "<a href=\"https://colab.research.google.com/github/ajd351/adamdahan/blob/main/Date_Program.ipynb\" target=\"_parent\"><img src=\"https://colab.research.google.com/assets/colab-badge.svg\" alt=\"Open In Colab\"/></a>"
      ]
    },
    {
      "cell_type": "code",
      "execution_count": null,
      "metadata": {
        "id": "lX4y0eNW13rk"
      },
      "outputs": [],
      "source": [
        "#Write a program that takes as input from the keyboard a string that corresponds t # a date (e.g., 02/20/2024) in the format: MM/DD/YYYY\n",
        "\n",
        "date=input(\"Enter a date\")\n",
        "month=date[0:2]\n",
        "day=date[3:5]\n",
        "year=date[6:10]\n",
        "print(f'The month is {date[0:2]}')\n",
        "print(f'The day is {date[3:5]}')\n",
        "print(f'The year is {date[6:]}')"
      ]
    }
  ]
}