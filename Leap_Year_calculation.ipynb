{
  "nbformat": 4,
  "nbformat_minor": 0,
  "metadata": {
    "colab": {
      "provenance": [],
      "authorship_tag": "ABX9TyPsEKg8ngjpT9Q5+FVR88u6",
      "include_colab_link": true
    },
    "kernelspec": {
      "name": "python3",
      "display_name": "Python 3"
    },
    "language_info": {
      "name": "python"
    }
  },
  "cells": [
    {
      "cell_type": "markdown",
      "metadata": {
        "id": "view-in-github",
        "colab_type": "text"
      },
      "source": [
        "<a href=\"https://colab.research.google.com/github/ajd351/adamdahan/blob/main/Leap_Year_calculation.ipynb\" target=\"_parent\"><img src=\"https://colab.research.google.com/assets/colab-badge.svg\" alt=\"Open In Colab\"/></a>"
      ]
    },
    {
      "cell_type": "code",
      "execution_count": null,
      "metadata": {
        "id": "cGkdJIpC5C2t"
      },
      "outputs": [],
      "source": [
        "user_input=int(input(\"Enter a year:\"))\n",
        "if (user_input%4==0):\n",
        "  if user_input%100==0:\n",
        "    if user_input%400==0:\n",
        "      print(\"Leap\")\n",
        "    else:\n",
        "      print(\"Not a leap\")\n",
        "  else: print(\"Leap\")"
      ]
    }
  ]
}