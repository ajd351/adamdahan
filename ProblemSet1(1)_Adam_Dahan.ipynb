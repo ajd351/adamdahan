{
  "nbformat": 4,
  "nbformat_minor": 0,
  "metadata": {
    "colab": {
      "provenance": [],
      "include_colab_link": true
    },
    "kernelspec": {
      "name": "python3",
      "display_name": "Python 3"
    },
    "language_info": {
      "name": "python"
    }
  },
  "cells": [
    {
      "cell_type": "markdown",
      "metadata": {
        "id": "view-in-github",
        "colab_type": "text"
      },
      "source": [
        "<a href=\"https://colab.research.google.com/github/ajd351/adamdahan/blob/main/ProblemSet1(1)_Adam_Dahan.ipynb\" target=\"_parent\"><img src=\"https://colab.research.google.com/assets/colab-badge.svg\" alt=\"Open In Colab\"/></a>"
      ]
    },
    {
      "cell_type": "markdown",
      "source": [
        "# Problem Set 2"
      ],
      "metadata": {
        "id": "mqKVIuY-mxNU"
      }
    },
    {
      "cell_type": "markdown",
      "source": [
        "## Assignment 1: Quality Control (7 points)\n",
        "\n",
        "A quality control manager would like to find the average weight of a list of weights. Prior experience indicates that the first two measures are atypical, and the practice is to exclude these from the average calculation.\n",
        "\n",
        "Write a program that calculates the average of a list of numbers that given as inputs from the user, excluding the first three values.\n",
        "\n",
        "For your program, you must define and use the following functions:\n",
        "- `getValues(n)`: Prompt the user for `n` values, returns the list\n",
        "- `calcAverage(alist)`: Calculates the average from the list"
      ],
      "metadata": {
        "id": "-RSYW1jVm08n"
      }
    },
    {
      "cell_type": "code",
      "source": [
        "def getValues(n):\n",
        "    values = []\n",
        "    for i in range(n):\n",
        "        value = float(input(\"Enter value {}: \".format(i + 1)))\n",
        "        values.append(value)\n",
        "    return values\n",
        "\n",
        "def calcAverage(alist):\n",
        "    # Exclude the first three values\n",
        "    valid_values = alist[3:]\n",
        "    average = sum(valid_values) / len(valid_values)\n",
        "    return average\n",
        "\n",
        "def main():\n",
        "    n = int(input(\"Enter the total number of values: \"))\n",
        "    values = getValues(n)\n",
        "\n",
        "    if len(values) < 3:\n",
        "        print(\"Insufficient values. Please enter at least 3 values.\")\n",
        "        return\n",
        "\n",
        "    average = calcAverage(values)\n",
        "    print(\"The average of the list without the first three values is:\", average)\n",
        "\n",
        "if __name__ == \"__main__\":\n",
        "    main()"
      ],
      "metadata": {
        "colab": {
          "base_uri": "https://localhost:8080/"
        },
        "id": "sImvjTtYAQHD",
        "outputId": "5bb3e62e-b9f1-4355-d535-41e242a569b3"
      },
      "execution_count": 20,
      "outputs": [
        {
          "output_type": "stream",
          "name": "stdout",
          "text": [
            "Enter the total number of values: 7\n",
            "Enter value 1: 4\n",
            "Enter value 2: 3\n",
            "Enter value 3: 5\n",
            "Enter value 4: 1\n",
            "Enter value 5: 3\n",
            "Enter value 6: 5\n",
            "Enter value 7: 6\n",
            "The average of the list without the first three values is: 3.75\n"
          ]
        }
      ]
    },
    {
      "cell_type": "markdown",
      "source": [
        "## Assignment 2: Country Statistics Lookup-Multiple Measures (6 points)\n",
        "\n",
        "Assume a program begins with the statement:\n",
        "\n",
        "```python\n",
        "allData = { # dictionary of values for countries\n",
        "    'US': {'pop':325.7, 'gdp': 19.39, 'ccy': 'USD', 'fx':  1.0},\n",
        "    'CA': {'pop': 36.5, 'gdp':  1.65, 'ccy': 'CAD', 'fx':  1.35},\n",
        "    'MX': {'pop':129.2, 'gdp':  1.15, 'ccy': 'MXN', 'fx': 19.68}\n",
        "    }\n",
        "```\n",
        "\n",
        "Write subsequent statements that (in a loop) prompt the user for a country code (`US`, `CA`, or `MX`), then prompt for a measure name (`pop`, `gdp`, `ccy`, or `fx`), then look up in the above dictionary for the corresponding value, and display it.\n",
        "\n",
        "Example run:\n",
        "```\n",
        "Please enter a country code: CA\n",
        "Please enter a statistic: pop\n",
        "CA pop = 36.5\n",
        "```\n",
        "\n",
        "Your program should handle the cases where a user-entered country code or measure name is not found."
      ],
      "metadata": {
        "id": "QFO0Kzx8ncnv"
      }
    },
    {
      "cell_type": "code",
      "source": [
        "allData = { # dictionary of values for countries\n",
        "    'US': {'pop':325.7, 'gdp': 19.39, 'ccy': 'USD', 'fx':  1.0},\n",
        "    'CA': {'pop':36.5, 'gdp':  1.65, 'ccy': 'CAD', 'fx':  1.35},\n",
        "    'MX': {'pop':129.2, 'gdp':  1.15, 'ccy': 'MXN', 'fx': 19.68}\n",
        "    }\n",
        "\n",
        "while True:\n",
        "  country_code = input('Enter country code (or type exit if you want to quit): ')\n",
        "  if country_code == 'exit':\n",
        "    break\n",
        "  if country_code not in allData.keys():\n",
        "    print('This country code does not exist.')\n",
        "    continue\n",
        "  statistic = input('Enter a statistic: ')\n",
        "  if statistic not in allData[country_code].keys():\n",
        "    print('Invalid stat')\n",
        "    continue\n",
        "\n",
        "  if statistic == 'pop':\n",
        "    print(f'Population = {allData[country_code][statistic]} million people')\n",
        "  elif statistic == 'gdp':\n",
        "    print(f'GDP = {allData[country_code][statistic]} trillion $')\n",
        "  elif statistic == 'ccy':\n",
        "    print(f'CCY = {allData[country_code][statistic]}')\n",
        "  elif statistic == 'MXN':\n",
        "    print(f'MXN = {allData[country_code][statistic]}')\n",
        "  else:\n",
        "    print(f'FX = {allData[country_code][statistic]}')"
      ],
      "metadata": {
        "id": "NZFjRINKowEW"
      },
      "execution_count": null,
      "outputs": []
    },
    {
      "cell_type": "markdown",
      "source": [
        "## Assignment 3: Parking Garage (6 points)\n",
        "\n",
        "Write a program to compute the fee for parking in a garage for a number of hours.\n",
        "\n",
        "The program should:\n",
        "- Prompt the user for how many hours parked\n",
        "- Calculate the fee based on the following rules:\n",
        "  - $2.50/hour\n",
        "\n",
        "  - minimum fee is $6.00\n",
        "\n",
        "  - maximum fee is $20.00\n",
        "- Print the result\n",
        "\n",
        "For your program, define and use the following two functions:\n",
        "```python\n",
        "# use input() to prompt for the # of hours parked, return this value\n",
        "def getParkingHours()\n",
        "\n",
        "# takes as input hours (a number), returns the parking fee\n",
        "def calcParkingFee()\n",
        "```"
      ],
      "metadata": {
        "id": "GjaUFrnfpKFf"
      }
    },
    {
      "cell_type": "code",
      "source": [
        "def getParkingHours():\n",
        "  hours=int(input(f'How many hours would you like to park for? '))\n",
        "  return hours\n",
        "\n",
        "def calcParkingFee(hours):\n",
        "  if hours<3:\n",
        "    print('Total=$6')\n",
        "  elif hours>8:\n",
        "    print('Total=$20')\n",
        "  else:\n",
        "    print(f'Total=${hours*2.5}')\n",
        "\n",
        "hours=getParkingHours()\n",
        "calcParkingFee(hours)\n",
        "\n",
        "def GetParkingHours():\n",
        "  return int(input('Enter number of hours: '))\n",
        "\n",
        "def CalcParkingFee(hours):\n",
        "  minfee = 6\n",
        "  maxfee = 20\n",
        "  parkingfee = 2.5*hours\n",
        "  if parkingfee<=6:\n",
        "    return minfee\n",
        "  elif parkingfee>=20:\n",
        "    return maxfee\n",
        "  else:\n",
        "    return parkingfee"
      ],
      "metadata": {
        "id": "5ha4O3V5pwNN"
      },
      "execution_count": null,
      "outputs": []
    },
    {
      "cell_type": "markdown",
      "source": [
        "## Assignment 4: Tuition (6 points)\n",
        "\n",
        "A college charges tuition according to the following:\n",
        "- 12 or more credits: $20,000/semester\n",
        "\n",
        "- 1-11 credits: $1,200 + $1,700 per credit\n",
        "\n",
        "Write a program that prompts the user for a number of credits and determines and displays the tuition for the semester. As part of your program, define and use the following function:\n",
        "```python\n",
        "def calcTuition(credits)\n",
        "```\n",
        "The function returns the tuition for a given number of credits"
      ],
      "metadata": {
        "id": "gipBObe5qm-2"
      }
    },
    {
      "cell_type": "code",
      "source": [
        "def calcTuition(credits):\n",
        "  if credits >=12:\n",
        "    print(f'Tuition = {20000}$.')\n",
        "  elif credits >=1:\n",
        "    print(f'Tuition = {1200+1700 * credits}$.')\n",
        "  else:\n",
        "    print(f'Invalid Number of Credits: {credits}')\n",
        "\n",
        "\n",
        "n_credits = int(input('Enter number of Credits:'))\n",
        "calcTuition(n_credits)"
      ],
      "metadata": {
        "id": "BPcn9ywzrL8y"
      },
      "execution_count": null,
      "outputs": []
    }
  ]
}