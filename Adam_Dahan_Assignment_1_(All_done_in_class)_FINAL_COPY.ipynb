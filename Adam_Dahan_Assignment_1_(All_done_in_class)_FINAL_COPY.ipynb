{
  "nbformat": 4,
  "nbformat_minor": 0,
  "metadata": {
    "colab": {
      "provenance": [],
      "mount_file_id": "1OuV2Rb2ZJUY-JR_HqrQucy1gwSSNDR4k",
      "authorship_tag": "ABX9TyM9kzRK9BwH/ScSwsi+4Jh5",
      "include_colab_link": true
    },
    "kernelspec": {
      "name": "python3",
      "display_name": "Python 3"
    },
    "language_info": {
      "name": "python"
    }
  },
  "cells": [
    {
      "cell_type": "markdown",
      "metadata": {
        "id": "view-in-github",
        "colab_type": "text"
      },
      "source": [
        "<a href=\"https://colab.research.google.com/github/ajd351/adamdahan/blob/main/Adam_Dahan_Assignment_1_(All_done_in_class)_FINAL_COPY.ipynb\" target=\"_parent\"><img src=\"https://colab.research.google.com/assets/colab-badge.svg\" alt=\"Open In Colab\"/></a>"
      ]
    },
    {
      "cell_type": "code",
      "execution_count": null,
      "metadata": {
        "colab": {
          "base_uri": "https://localhost:8080/"
        },
        "id": "lAEP4RvRGm8h",
        "outputId": "54803618-14d8-45ab-85ae-917cd5364ff7"
      },
      "outputs": [
        {
          "name": "stdout",
          "output_type": "stream",
          "text": [
            "Play a game? (y/n)y\n",
            "Enter your choice (rock, paper, or scissors): rock\n",
            "You chose: rock\n",
            "Computer chose: rock\n",
            "It's a tie!\n",
            "Do you wish to continue? (y/n)y\n",
            "Enter your choice (rock, paper, or scissors): paper\n",
            "You chose: paper\n",
            "Computer chose: rock\n",
            "You win!\n",
            "Do you wish to continue? (y/n)n\n"
          ]
        }
      ],
      "source": [
        "import random\n",
        "\n",
        "UserInput=input(\"Play a game? (y/n)\")\n",
        "while UserInput==\"y\":\n",
        "\n",
        "  user_choice = input(\"Enter your choice (rock, paper, or scissors): \")\n",
        "  computer_choice = random.choice([\"rock\", \"paper\", \"scissors\"])\n",
        "\n",
        "  print(f\"You chose: {user_choice}\")\n",
        "  print(f\"Computer chose: {computer_choice}\")\n",
        "\n",
        "  if user_choice == computer_choice:\n",
        "      print(\"It's a tie!\")\n",
        "  elif (\n",
        "      (user_choice == \"rock\" and computer_choice == \"scissors\") or\n",
        "      (user_choice == \"paper\" and computer_choice == \"rock\") or\n",
        "      (user_choice == \"scissors\" and computer_choice == \"paper\")\n",
        "  ):\n",
        "      print(\"You win!\")\n",
        "  else:\n",
        "      print(\"Computer wins!\")\n",
        "\n",
        "  UserInput=input(\"Do you wish to continue? (y/n)\")"
      ]
    },
    {
      "cell_type": "code",
      "source": [
        "while True:\n",
        "  number1= float(input(\"Enter a number\"))\n",
        "  number2= float(input(\"Enter another number\"))\n",
        "  op=input(\"Enter an operation\")\n",
        "  if op=='break':\n",
        "    print(\"goodbye\")\n",
        "    break\n",
        "  elif op== \"+\":\n",
        "    print(f'{number1}+{number2}={number1+number2}')\n",
        "  elif op== \"-\":\n",
        "    print(f'{number1}-{number2}={number1-number2}')\n",
        "  elif op== \"*\":\n",
        "    print(f'{number1}*{number2}={number1*number2}')\n",
        "  elif op== \"/\":\n",
        "    print(f'{number1}/{number2}={number1/number2}')\n",
        "  elif op== \"//\":\n",
        "    print(f'{number1}//{number2}={number1//number2}')\n",
        "  elif op== \"**\":\n",
        "    print(f'{number1}**{number2}={number1**number2}')\n",
        "  elif op==\"%\":\n",
        "    print(f'{number1}%{number2}={number1%number2}')\n",
        "  else:\n",
        "    continue"
      ],
      "metadata": {
        "id": "qJpkYbkWG2Mc",
        "outputId": "e1c9dec4-10ad-4029-918e-5e7cf1fca791",
        "colab": {
          "base_uri": "https://localhost:8080/"
        }
      },
      "execution_count": null,
      "outputs": [
        {
          "output_type": "stream",
          "name": "stdout",
          "text": [
            "Enter a number5\n",
            "Enter another number3\n",
            "Enter an operation+\n",
            "5.0+3.0=8.0\n"
          ]
        }
      ]
    },
    {
      "cell_type": "code",
      "source": [
        "#Write a program that takes as input from the keyboard a string that corresponds t # a date (e.g., 02/20/2024) in the format: MM/DD/YYYY\n",
        "\n",
        "date=input(\"Enter a date\")\n",
        "month=date[0:2]\n",
        "day=date[3:5]\n",
        "year=date[6:10]\n",
        "print(f'The month is {date[0:2]}')\n",
        "print(f'The day is {date[3:5]}')\n",
        "print(f'The year is {date[6:]}')"
      ],
      "metadata": {
        "id": "WYl9ZLmdHFXy"
      },
      "execution_count": null,
      "outputs": []
    },
    {
      "cell_type": "code",
      "source": [
        "L=[]\n",
        "number=int(input('Enter a value: '))\n",
        "while number!=0:\n",
        "  L.append(number)\n",
        "  number=int(input('Enter a value: '))\n",
        "L"
      ],
      "metadata": {
        "id": "U5CIMdG5H0Gr"
      },
      "execution_count": null,
      "outputs": []
    },
    {
      "cell_type": "code",
      "source": [
        "def recursive_factorial(n):\n",
        "  if n <= 1:\n",
        "    return 1\n",
        "\n",
        "  else:\n",
        "    return n * recursive_factorial(n-1)\n",
        "\n",
        "recursive_factorial(3)"
      ],
      "metadata": {
        "id": "coRbLHXwKZF1"
      },
      "execution_count": null,
      "outputs": []
    },
    {
      "cell_type": "code",
      "source": [
        "def recursive_backwards(s):\n",
        "  if len(s) == 1:\n",
        "    return s\n",
        "  else:\n",
        "    return s[-1]+recursive_backwards(s[:-1])\n",
        "\n",
        "recursive_backwards(f'Adam')"
      ],
      "metadata": {
        "colab": {
          "base_uri": "https://localhost:8080/",
          "height": 35
        },
        "id": "6bFCOCm_h-LL",
        "outputId": "c951d74d-acc6-45f0-afe3-6891cc8494c9"
      },
      "execution_count": null,
      "outputs": [
        {
          "output_type": "execute_result",
          "data": {
            "text/plain": [
              "'madA'"
            ],
            "application/vnd.google.colaboratory.intrinsic+json": {
              "type": "string"
            }
          },
          "metadata": {},
          "execution_count": 2
        }
      ]
    },
    {
      "cell_type": "code",
      "source": [
        "def avg(alist):\n",
        "  try:\n",
        "    return sum(alist)/len(alist)\n",
        "  except ZeroDivisionError:\n",
        "    print('The list is empty!')\n",
        "    return\n",
        "  except TypeError:\n",
        "    print('Values must be numerical!')\n",
        "    return float('nan') #not a number, can be casted as a float\n",
        "\n",
        "l=[17,6.8,95]\n",
        "avg(l)"
      ],
      "metadata": {
        "id": "31_saVsPhnLT",
        "colab": {
          "base_uri": "https://localhost:8080/"
        },
        "outputId": "bcd7332d-241c-4c5a-b720-5ba24ae1ceac"
      },
      "execution_count": null,
      "outputs": [
        {
          "output_type": "execute_result",
          "data": {
            "text/plain": [
              "39.6"
            ]
          },
          "metadata": {},
          "execution_count": 3
        }
      ]
    },
    {
      "cell_type": "code",
      "source": [
        "#An example with Properties and Methods: Mortgage\n",
        "#Properties: initial loan amount ($), term to maturity (years), fixed annual int rate (%)\n",
        "\n",
        "class Mortgage:\n",
        "  def __init__(self,amount,maturity,interest):\n",
        "    self.amount=amount\n",
        "    self.maturity=maturity\n",
        "    self.__interest=interest\n",
        "    #doubleunderscores make it a private attribute\n",
        "    #constructors must always go first\n",
        "\n",
        "  def __str__(self):\n",
        "    #can also use __repr__\n",
        "    return 'Initial loan amount: $' +str(self.amount) + '\\n' + f'Maturity term: {self.maturity} Years' + '\\n' + f'Interest rate: {self.__interest}%'\n",
        "\n",
        "  def get_interest(self):\n",
        "    return self.__interest\n",
        "\n",
        "  def set_interest(self, newInterest):\n",
        "    if newInterest>=0:\n",
        "      self.__interest=newInterest\n",
        "    else:\n",
        "      print('Interest must be positive')\n",
        "\n",
        "  def payment(self):\n",
        "    n=12*self.maturity\n",
        "    r=self.__interest/100\n",
        "    return self.amount * (r*(1+r)**n)/((1+r)**n-1)"
      ],
      "metadata": {
        "id": "5SGZr4OWiENa"
      },
      "execution_count": null,
      "outputs": []
    },
    {
      "cell_type": "code",
      "source": [
        "def getParkingHours():\n",
        "  hours=int(input(f'How many hours would you like to park for? '))\n",
        "  return hours\n",
        "\n",
        "def calcParkingFee(hours):\n",
        "  if hours<3:\n",
        "    print('Total=$6')\n",
        "  elif hours>8:\n",
        "    print('Total=$20')\n",
        "  else:\n",
        "    print(f'Total=${hours*2.5}')\n",
        "\n",
        "hours=getParkingHours()\n",
        "calcParkingFee(hours)\n",
        "\n",
        "def GetParkingHours():\n",
        "  return int(input('Enter number of hours: '))\n",
        "\n",
        "def CalcParkingFee(hours):\n",
        "  minfee = 6\n",
        "  maxfee = 20\n",
        "  parkingfee = 2.5*hours\n",
        "  if parkingfee<=6:\n",
        "    return minfee\n",
        "  elif parkingfee>=20:\n",
        "    return maxfee\n",
        "  else:\n",
        "    return parkingfee"
      ],
      "metadata": {
        "colab": {
          "base_uri": "https://localhost:8080/"
        },
        "id": "7YHrIAZhiS32",
        "outputId": "54d4e85a-2d87-4bf4-b7fd-616b47e6e9f9"
      },
      "execution_count": null,
      "outputs": [
        {
          "output_type": "stream",
          "name": "stdout",
          "text": [
            "How many hours would you like to park for? 5\n",
            "Total=$12.5\n"
          ]
        }
      ]
    },
    {
      "cell_type": "code",
      "source": [
        "user_input=int(input(\"Enter a year:\"))\n",
        "if (user_input%4==0):\n",
        "  if user_input%100==0:\n",
        "    if user_input%400==0:\n",
        "      print(\"Leap\")\n",
        "    else:\n",
        "      print(\"Not a leap\")\n",
        "  else: print(\"Leap\")"
      ],
      "metadata": {
        "colab": {
          "base_uri": "https://localhost:8080/"
        },
        "id": "kT6GLPRniV-0",
        "outputId": "f97e95ab-91a5-452a-8836-efc2239846db"
      },
      "execution_count": null,
      "outputs": [
        {
          "output_type": "stream",
          "name": "stdout",
          "text": [
            "Enter a year:2004\n",
            "Leap\n"
          ]
        }
      ]
    },
    {
      "cell_type": "code",
      "source": [
        "print(f'Ad$ Profit')\n",
        "\n",
        "init_attendees = 20\n",
        "fixed_cost = 200\n",
        "\n",
        "for advertising in range (0,201,25):\n",
        "  ad=float(advertising)\n",
        "  attendees = float(2*round(advertising**0.5)+init_attendees)\n",
        "  profit=float((attendees*10)-advertising-fixed_cost)\n",
        "  print(f'{ad} ${profit}')"
      ],
      "metadata": {
        "colab": {
          "base_uri": "https://localhost:8080/"
        },
        "id": "Y2XE-V8Bin6M",
        "outputId": "b0449e1a-3376-4cbf-a47f-d256f14501fc"
      },
      "execution_count": null,
      "outputs": [
        {
          "output_type": "stream",
          "name": "stdout",
          "text": [
            "Ad$ Profit\n",
            "0.0 $0.0\n",
            "25.0 $75.0\n",
            "50.0 $90.0\n",
            "75.0 $105.0\n",
            "100.0 $100.0\n",
            "125.0 $95.0\n",
            "150.0 $90.0\n",
            "175.0 $85.0\n",
            "200.0 $80.0\n"
          ]
        }
      ]
    },
    {
      "cell_type": "code",
      "source": [
        "def getValues(n):\n",
        "  weights = []\n",
        "  for i in range(n):\n",
        "    weight=float(input(f'Enter a value: '))\n",
        "    weights.append(weight)\n",
        "\n",
        "  return weights[2:]\n",
        "\n",
        "def calcAverage(alist):\n",
        "  return sum(alist)/len(alist)\n",
        "\n",
        "def main():\n",
        "  n_weights = int(input('Enter number of weights: '))\n",
        "  L = getValues(n_weights)\n",
        "  avg = calcAverage(L)\n",
        "  print(avg)\n",
        "\n",
        "main()"
      ],
      "metadata": {
        "colab": {
          "base_uri": "https://localhost:8080/"
        },
        "id": "rrT5RJyvipnk",
        "outputId": "62ea0f08-5250-4dd7-eb19-69d3f62f1bdf"
      },
      "execution_count": null,
      "outputs": [
        {
          "output_type": "stream",
          "name": "stdout",
          "text": [
            "Enter number of weights: 4\n",
            "Enter a value: 30\n",
            "Enter a value: 2\n",
            "Enter a value: 1\n",
            "Enter a value: 5\n",
            "3.0\n"
          ]
        }
      ]
    },
    {
      "cell_type": "code",
      "source": [
        "months={}\n",
        "\n",
        "numbers = [1,2,3,4,5,6,7,8,9,10,11,12]\n",
        "names = ['Jan','Feb','Mar','Apr','May','Jun','Jul','Aug','Sep','Oct','Nov','Dec']\n",
        "\n",
        "for i in range(len(numbers)):\n",
        "  months[numbers[i]]=names[i]\n",
        "\n",
        "print(months)"
      ],
      "metadata": {
        "colab": {
          "base_uri": "https://localhost:8080/"
        },
        "id": "r7Gc4jVKiyfS",
        "outputId": "aeae274b-8dc9-41db-dc7c-d67ba437bcb9"
      },
      "execution_count": null,
      "outputs": [
        {
          "output_type": "stream",
          "name": "stdout",
          "text": [
            "{1: 'Jan', 2: 'Feb', 3: 'Mar', 4: 'Apr', 5: 'May', 6: 'Jun', 7: 'Jul', 8: 'Aug', 9: 'Sep', 10: 'Oct', 11: 'Nov', 12: 'Dec'}\n"
          ]
        }
      ]
    },
    {
      "cell_type": "code",
      "source": [
        "Name = input('Hi, please enter your name: ')\n",
        "Customer_type = input('Enter your customer type (n: new, e: existing)')\n",
        "Deposit = float(input('Enter your deposit amount: $'))\n",
        "\n",
        "if Customer_type == 'n':\n",
        "  Interest=.03\n",
        "else:\n",
        "  if Deposit<=1000:\n",
        "    Interest=float(.03)\n",
        "  elif Deposit<=10000:\n",
        "    Interest=float(.0325)\n",
        "  elif Deposit>10000:\n",
        "    Interest=float(.035)\n",
        "\n",
        "Amount = (1 + Interest) * Deposit\n",
        "print(f'{Name}, you will have ${round(Amount,2)} in your account.')"
      ],
      "metadata": {
        "colab": {
          "base_uri": "https://localhost:8080/"
        },
        "id": "k9m_UaeNi17U",
        "outputId": "54c6f58d-3d1e-4dae-b747-405a9706ef85"
      },
      "execution_count": null,
      "outputs": [
        {
          "output_type": "stream",
          "name": "stdout",
          "text": [
            "Hi, please enter your name: Adam\n",
            "Enter your customer type (n: new, e: existing)New\n",
            "Enter your deposit amount: $5000\n",
            "Adam, you will have $5162.5 in your account.\n"
          ]
        }
      ]
    },
    {
      "cell_type": "code",
      "source": [
        "List = []\n",
        "while True:\n",
        "  userInput=int(input('Entr an integer to append to the list: '))\n",
        "  if userInput==0:\n",
        "    break\n",
        "  List.append(userInput)\n",
        "  print(f'Here is your current list: {List}')\n",
        "\n",
        "print(f'Here is your list: {List}')"
      ],
      "metadata": {
        "id": "lKarSGsdi9d2"
      },
      "execution_count": null,
      "outputs": []
    },
    {
      "cell_type": "code",
      "source": [
        "allData = { # dictionary of values for countries\n",
        "    'US': {'pop':325.7, 'gdp': 19.39, 'ccy': 'USD', 'fx':  1.0},\n",
        "    'CA': {'pop': 36.5, 'gdp':  1.65, 'ccy': 'CAD', 'fx':  1.35},\n",
        "    'MX': {'pop':129.2, 'gdp':  1.15, 'ccy': 'MXN', 'fx': 19.68}\n",
        "    }\n",
        "\n",
        "while True:\n",
        "  country_code = input('Enter country code (or type exit if you want to quit): ')\n",
        "  if country_code == 'exit':\n",
        "    break\n",
        "  if country_code not in allData.keys():\n",
        "    print('This country code does not exist.')\n",
        "    continue\n",
        "  statistic = input('Enter a statistic: ')\n",
        "  if statistic not in allData[country_code].keys():\n",
        "    print('Invalid stat')\n",
        "    continue\n",
        "\n",
        "  if statistic == 'pop':\n",
        "    print(f'Population = {allData[country_code][statistic]} million people')\n",
        "  elif statistic == 'gdp':\n",
        "    print(f'GDP = {allData[country_code][statistic]} trillion $')\n",
        "  elif statistic == 'ccy':\n",
        "    print(f'CCY = {allData[country_code][statistic]}')\n",
        "  elif statistic == 'MXN':\n",
        "    print(f'MXN = {allData[country_code][statistic]}')\n",
        "  else:\n",
        "    print(f'FX = {allData[country_code][statistic]}')"
      ],
      "metadata": {
        "id": "1WdPJEx5jFtN"
      },
      "execution_count": null,
      "outputs": []
    },
    {
      "cell_type": "code",
      "source": [
        "def calcTuition(credits):\n",
        "  credits = int(input('How many credit hours are you taking? '))\n",
        "  if credits >= 12:\n",
        "    print('Tuition = $20,000')\n",
        "  elif credits < 12 and credits >= 1:\n",
        "    base = 1200\n",
        "    tuition = 1200 + credits*1700\n",
        "    print(f'Tuition = {tuition}')\n",
        "  else:\n",
        "    print(f'Invalid number of credits: {credits}')\n",
        "\n",
        "calcTuition(credits)"
      ],
      "metadata": {
        "colab": {
          "base_uri": "https://localhost:8080/"
        },
        "id": "TjPW68aIjcIU",
        "outputId": "74a36a7a-4312-419c-cae1-182fbdc2aba2"
      },
      "execution_count": null,
      "outputs": [
        {
          "output_type": "stream",
          "name": "stdout",
          "text": [
            "How many credit hours are you taking? 15\n",
            "Tuition = $20,000\n"
          ]
        }
      ]
    },
    {
      "cell_type": "markdown",
      "source": [
        "# Problem Set 2\n"
      ],
      "metadata": {
        "id": "7-aM0WfUnSeA"
      }
    },
    {
      "cell_type": "markdown",
      "source": [
        "# Assignment 1: Quality Control (7 points)\n",
        "A quality control manager would like to find the average weight of a list of weights. Prior experience indicates that the first two measures are atypical, and the practice is to exclude these from the average calculation.\n",
        "\n",
        "Write a program that calculates the average of a list of numbers that given as inputs from the user, excluding the first three values.\n",
        "\n",
        "For your program, you must define and use the following functions:\n",
        "\n",
        "*   getValues(n): Prompt the user for n values, returns the list\n",
        "*   calcAverage(alist): Calculates the average from the list\n",
        "\n",
        "\n"
      ],
      "metadata": {
        "id": "a2sbXQp0nai7"
      }
    },
    {
      "cell_type": "code",
      "source": [
        "def getValues(n):\n",
        "    values = []\n",
        "    for i in range(n):\n",
        "        value = float(input(\"Enter value {}: \".format(i + 1)))\n",
        "        values.append(value)\n",
        "    return values\n",
        "\n",
        "def calcAverage(alist):\n",
        "    # Exclude the first three values\n",
        "    valid_values = alist[3:]\n",
        "    average = sum(valid_values) / len(valid_values)\n",
        "    return average\n",
        "\n",
        "def main():\n",
        "    n = int(input(\"Enter the total number of values: \"))\n",
        "    values = getValues(n)\n",
        "\n",
        "    if len(values) < 3:\n",
        "        print(\"Insufficient values. Please enter at least 3 values.\")\n",
        "        return\n",
        "\n",
        "    average = calcAverage(values)\n",
        "    print(\"The average of the list without the first three values is:\", average)\n",
        "\n",
        "if __name__ == \"__main__\":\n",
        "    main()"
      ],
      "metadata": {
        "id": "uJQETEhxq3Xn"
      },
      "execution_count": null,
      "outputs": []
    },
    {
      "cell_type": "markdown",
      "source": [
        "# Assignment 2: Country Statistics Lookup-Multiple Measures (6 points)\n",
        "Assume a program begins with the statement:\n",
        "\n",
        "```\n",
        "allData = { # dictionary of values for countries\n",
        "    'US': {'pop':325.7, 'gdp': 19.39, 'ccy': 'USD', 'fx':  1.0},\n",
        "    'CA': {'pop': 36.5, 'gdp':  1.65, 'ccy': 'CAD', 'fx':  1.35},\n",
        "    'MX': {'pop':129.2, 'gdp':  1.15, 'ccy': 'MXN', 'fx': 19.68}\n",
        "    }\\\n",
        "```\n",
        "\n",
        "\n",
        "Write subsequent statements that (in a loop) prompt the user for a country code (US, CA, or MX), then prompt for a measure name (pop, gdp, ccy, or fx), then look up in the above dictionary for the corresponding value, and display it.\n",
        "\n",
        "Example run:\n",
        "\n",
        "```\n",
        "Please enter a country code: CA\n",
        "Please enter a statistic: pop\n",
        "CA pop = 36.5\n",
        "```\n",
        "\n",
        "\n",
        "Your program should handle the cases where a user-entered country code or measure name is not found."
      ],
      "metadata": {
        "id": "3j44k8bvnglq"
      }
    },
    {
      "cell_type": "code",
      "source": [
        "allData = { # dictionary of values for countries\n",
        "    'US': {'pop':325.7, 'gdp': 19.39, 'ccy': 'USD', 'fx':  1.0},\n",
        "    'CA': {'pop':36.5, 'gdp':  1.65, 'ccy': 'CAD', 'fx':  1.35},\n",
        "    'MX': {'pop':129.2, 'gdp':  1.15, 'ccy': 'MXN', 'fx': 19.68}\n",
        "    }\n",
        "\n",
        "while True:\n",
        "  country_code = input('Enter country code (or type exit if you want to quit): ')\n",
        "  if country_code == 'exit':\n",
        "    break\n",
        "  if country_code not in allData.keys():\n",
        "    print('This country code does not exist.')\n",
        "    continue\n",
        "  statistic = input('Enter a statistic: ')\n",
        "  if statistic not in allData[country_code].keys():\n",
        "    print('Invalid stat')\n",
        "    continue\n",
        "\n",
        "  if statistic == 'pop':\n",
        "    print(f'Population = {allData[country_code][statistic]} million people')\n",
        "  elif statistic == 'gdp':\n",
        "    print(f'GDP = {allData[country_code][statistic]} trillion $')\n",
        "  elif statistic == 'ccy':\n",
        "    print(f'CCY = {allData[country_code][statistic]}')\n",
        "  elif statistic == 'MXN':\n",
        "    print(f'MXN = {allData[country_code][statistic]}')\n",
        "  else:\n",
        "    print(f'FX = {allData[country_code][statistic]}')"
      ],
      "metadata": {
        "id": "FlTLVooBno80"
      },
      "execution_count": null,
      "outputs": []
    },
    {
      "cell_type": "markdown",
      "source": [
        "# Assignment 3: Parking Garage (6 points)\n",
        "\n",
        "\n",
        "Write a program to compute the fee for parking in a garage for a number of hours.\n",
        "\n",
        "The program should:\n",
        "\n",
        "*   Prompt the user for how many hours parked\n",
        "*   Calculate the fee based on the following rules:\n",
        "    *   $2.50/hour\n",
        "   *   minimum fee is $6.00\n",
        "    *   maximum fee is $20.00\n",
        "\n",
        "\n",
        "*   Print the result\n",
        "\n",
        "For your program, define and use the following two functions:\n",
        "\n",
        "\n",
        "\n",
        "\n",
        "```\n",
        "# use input() to prompt for the # of hours parked, return this value\n",
        "def getParkingHours()\n",
        "\n",
        "# takes as input hours (a number), returns the parking fee\n",
        "def calcParkingFee()\n",
        "```\n",
        "\n"
      ],
      "metadata": {
        "id": "TjKhD4GapKGc"
      }
    },
    {
      "cell_type": "code",
      "source": [
        "def getParkingHours():\n",
        "  hours=int(input(f'How many hours would you like to park for? '))\n",
        "  return hours\n",
        "\n",
        "def calcParkingFee(hours):\n",
        "  if hours<3:\n",
        "    print('Total=$6')\n",
        "  elif hours>8:\n",
        "    print('Total=$20')\n",
        "  else:\n",
        "    print(f'Total=${hours*2.5}')\n",
        "\n",
        "hours=getParkingHours()\n",
        "calcParkingFee(hours)\n",
        "\n",
        "def GetParkingHours():\n",
        "  return int(input('Enter number of hours: '))\n",
        "\n",
        "def CalcParkingFee(hours):\n",
        "  minfee = 6\n",
        "  maxfee = 20\n",
        "  parkingfee = 2.5*hours\n",
        "  if parkingfee<=6:\n",
        "    return minfee\n",
        "  elif parkingfee>=20:\n",
        "    return maxfee\n",
        "  else:\n",
        "    return parkingfee"
      ],
      "metadata": {
        "colab": {
          "base_uri": "https://localhost:8080/"
        },
        "id": "3_BjnkERqVEO",
        "outputId": "2762e123-9369-4259-b7ae-17aa5a99f7ce"
      },
      "execution_count": null,
      "outputs": [
        {
          "output_type": "stream",
          "name": "stdout",
          "text": [
            "How many hours would you like to park for? 15\n",
            "Total=$20\n"
          ]
        }
      ]
    },
    {
      "cell_type": "markdown",
      "source": [
        "# Assignment 4: Tuition (6 points)\n",
        "A college charges tuition according to the following:\n",
        "\n",
        "\n",
        "*   12 or more credits: $20,000/semester\n",
        "*   1-11 credits: 1,200+1,700 per credit\n",
        "\n",
        "\n",
        "Write a program that prompts the user for a number of credits and determines and displays the tuition for the semester. As part of your program, define and use the following function:\n",
        "\n",
        "\n",
        "```\n",
        "def calcTuition(credits)\n",
        "```\n",
        "The function returns the tuition for a given number of credits\n"
      ],
      "metadata": {
        "id": "jNfOPnozrbx4"
      }
    },
    {
      "cell_type": "code",
      "source": [
        "def calcTuition(credits):\n",
        "  if credits >=12:\n",
        "    print(f'Tuition = {20000}$.')\n",
        "  elif credits >=1:\n",
        "    print(f'Tuition = {1200+1700 * credits}$.')\n",
        "  else:\n",
        "    print(f'Invalid Number of Credits: {credits}')\n",
        "\n",
        "\n",
        "n_credits = int(input('Enter number of Credits:'))\n",
        "calcTuition(n_credits)"
      ],
      "metadata": {
        "id": "fjGjjAp3rzHL"
      },
      "execution_count": null,
      "outputs": []
    }
  ]
}